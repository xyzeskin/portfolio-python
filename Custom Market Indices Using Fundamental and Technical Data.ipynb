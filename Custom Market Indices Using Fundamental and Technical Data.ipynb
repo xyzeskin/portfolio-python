{
 "cells": [
  {
   "cell_type": "markdown",
   "metadata": {},
   "source": [
    "## Custom Market Indices Using Fundamental and Technical Data\n",
    "\n",
    "In this tutorial we use fundamental and technical (price-volume) data to construct a custom index. As an example, we aim at constructing a proxy of Russell 2000, that is, an index composed of 2000 smallest stocks in the US equity markets. The methodology presented below is easy to extend to more complex indices which rely on fundamental data and technical data.\n",
    "The main bulk of official rules for constructing the R2000 index are as follows:\n",
    "\n",
    "1. US based,\n",
    "2. Trade on an eligible US exchange,\n",
    "3. Have a minimum price of 1 dollar on the day of constructing the index,\n",
    "4. Have a market capitalization of no less than 30 million dollars,\n",
    "5. Minimum of 5% of the float available,\n",
    "6. Companies structured in the following ways are excluded: royalty trusts, U.S. limited liability companies, closed-   end investment companies.\n",
    "\n",
    "We will only approximate this set of rules as we proceed. We study the portfolio over 2000-2020 and contrast it against IWM, an exchange traded fund corresponding to the R2000. Note that in reality the selection for the index is done only once per year, however, we use quarterly data and refresh the set of constituents four times a year. In addition to this, we include ADRs into the mix which are not a part of the official methodology. "
   ]
  },
  {
   "cell_type": "code",
   "execution_count": 2,
   "metadata": {},
   "outputs": [],
   "source": [
    "import pandas as pd\n",
    "import xxx as cru\n",
    "from copy import deepcopy\n",
    "from xxx import get_db_conn\n",
    "import pandas_datareader as pdr"
   ]
  },
  {
   "cell_type": "markdown",
   "metadata": {},
   "source": [
    "### Importing the data\n",
    "\n",
    "We begin by importing data. For obvious reasons, the important parameters have been censored. The main idea is to show that we import fundamental data for the US equity markets from a proprietary SQL database. The technical data on the other hand is stored in parquet files in a proprietary database. Parquet files have become exceedingly popular due to their efficiency with respect to reading, writing, and storing capacity. Parquet is part of an Apache project and thus geared for big data applications."
   ]
  },
  {
   "cell_type": "code",
   "execution_count": null,
   "metadata": {},
   "outputs": [],
   "source": [
    "# Fundamental data\n",
    "fund_table = pd.read_csv(\\'Fundamental_Variables_Q.csv')\n",
    "col_dict = dict(fund_table[['Field name', 'Variable']].values)\n",
    "conn = get_db_conn(database = 'xxx',\n",
    "                username = 'xxx',\n",
    "                password = 'xxx' ,\n",
    "                server='xxx',\n",
    "                driver_version=17,\n",
    "                is_sqlalchemy=True)\n",
    "\n",
    "query_1 = '''\n",
    "            SELECT\n",
    "                ff_eps_rpt_date as date,      \n",
    "                {fields},\n",
    "                LEFT(ticker_region, LEN(ticker_region) - 3) AS ticker_region\n",
    "            FROM QData.Fundamentals\n",
    "            WHERE date >= '{x}'\n",
    "                  AND date <= '{y}'\n",
    "                  AND ticker_region NOT IN\n",
    "                      (\n",
    "                          SELECT ticker_region FROM QData.REITs\n",
    "                      )\n",
    "                  AND RIGHT(ticker_region, 3) = '-US';\n",
    "        '''\n",
    "fund_q = pd.read_sql_query(query_1.format(x='2000-01-01',\n",
    "                                      y='2030-01-01',\n",
    "                                      fields=', '.join(list(fund_table['Field name'].dropna()))),\n",
    "                       conn,\n",
    "                       parse_dates=['date']).rename(columns=col_dict)\n",
    "fund_q = fund_q.set_index(pd.to_datetime(fund_q.date_EPS_rep))\n",
    "fund_q.sort_index(ascending=True, inplace=True)\n",
    "fund_q['quarter'] = pd.PeriodIndex(fund_q.date, freq='Q').to_timestamp()\n",
    "fund_q.rename(columns={'ticker_region':'ticker'}, inplace=True)\n",
    "\n",
    "\n",
    "# Technical data\n",
    "data = []\n",
    "for i in range(2000, 2021):\n",
    "    df = cru.get_adls_parquet_data(adls_path='latest_data/joined-view/year=%s'%i,\n",
    "                                     acct_name='xxx',\n",
    "                                     acct_key='xxx',\n",
    "                                     azcopy_exe=r'xxx',\n",
    "                                     file_system='quant-filesystem')\n",
    "    data.append(df)\n",
    "data = pd.concat(data, axis=0)\n",
    "data = data.set_index(pd.to_datetime(data['date']))\n",
    "data.sort_index(ascending=True, inplace=True)\n",
    "prices = data[(data.type == 'SHARE') |\n",
    "              (data.type == 'ADR')]\n",
    "prices['quarter'] = pd.PeriodIndex(prices.index, freq='Q').to_timestamp()"
   ]
  },
  {
   "cell_type": "markdown",
   "metadata": {},
   "source": [
    "### Selecting R2000 tickers\n",
    "\n",
    "Below we sample the R2000 tickers from the fundamental data, compute weights for each ticker for each quarter, and store the data into a pd.DataFrame. We approximate the index constituents at this point by adding two rules in addition to basic bottom-2000-rule. Namely, the market value of the company must be at least 30 million USD (below market value is stored in millions), and the ticker symbol has to be of maximum length of four characters. This way we exclude constituents which naturally do not belong into a stock market index. \n",
    "\n",
    "As for the datetime index, we are careful to use the release date of the quarterly report. More precisely, we use the date when the earnings-per-share was first reported. An important move is to push the information released at a given quarter into the next. This will assure that we do not introduce look-ahead-bias into the portfolio. "
   ]
  },
  {
   "cell_type": "code",
   "execution_count": 16,
   "metadata": {
    "scrolled": true
   },
   "outputs": [],
   "source": [
    "# Add vol and price data into fund_d\n",
    "fund_q_t = dict(list(fund_q.groupby('ticker')))\n",
    "prices_t = dict(list(prices.groupby('ticker')))\n",
    "\n",
    "fund = {}\n",
    "for k in fund_q_t.keys():\n",
    "    if (len(k) <= 4) & (k in prices_t.keys()):\n",
    "    \n",
    "        df_1 = fund_q_t[k]\n",
    "        df_2 = prices_t[k]\n",
    "        df_2.set_index(df_2.quarter, inplace=True)\n",
    "        \n",
    "        q_vol = df_2['vol'].groupby(level=0).median()\n",
    "        q_price = df_2['close'].groupby(level=0).first()\n",
    "        \n",
    "        df_2 = pd.concat([q_vol, q_price], axis=1)\n",
    "        \n",
    "        df_1 = df_1.merge(df_2, on=['quarter']).set_index('date_EPS_rep', drop=False)     \n",
    "        df_1 = df_1[(df_1['Market_value'] >= 30) & (df_1['vol'] >= 150) & (df_1['close'] >= 1)]\n",
    "        \n",
    "        if df_1.shape[0] > 0:\n",
    "            fund[k] = df_1\n",
    "\n",
    "fund = pd.concat(fund)\n",
    "\n",
    "fund = fund.groupby('quarter').apply(lambda x: x.drop_duplicates('ticker').sort_values('Market_value', ascending=True).head(2000)).set_index('date_EPS_rep', drop=False)\n",
    "ind_value = pd.DataFrame(fund.groupby('quarter').apply(lambda x: x['Market_value'].sum()), columns=['ind_value'])\n",
    "fund = fund.merge(ind_value, on=['quarter']).set_index('date_EPS_rep', drop=False)\n",
    "fund['weight'] = fund['Market_value'] / fund['ind_value']\n",
    "\n",
    "fund['quarter_index'] = fund['quarter'] + pd.DateOffset(months=3)"
   ]
  },
  {
   "cell_type": "markdown",
   "metadata": {},
   "source": [
    "### Formatting price data and merging with fundamental data\n",
    "\n",
    "The main point of contact between the fundamental data and the technical data are the ticker and the datetime (when the fundamental data was first reported). "
   ]
  },
  {
   "cell_type": "code",
   "execution_count": 24,
   "metadata": {},
   "outputs": [],
   "source": [
    "pct_change = prices.groupby('ticker').apply(lambda x: x.close.pct_change())\n",
    "pct_change = pct_change.reset_index().set_index('date_i', drop=True)\n",
    "pct_change.rename(columns={'close':'pct_change'}, inplace=True)\n",
    "\n",
    "prices.index.name = 'date_i'\n",
    "\n",
    "prices = pd.merge(prices, pct_change, how='left', on=['ticker', 'date_i'])\n",
    "\n",
    "price_dict = dict(list(prices.groupby('quarter')))\n",
    "r2_dict = dict(list(fund.groupby('quarter_index')))"
   ]
  },
  {
   "cell_type": "markdown",
   "metadata": {},
   "source": [
    "### Construct the index\n",
    "\n",
    "In addition to belonging to the 2000 smallest companies in terms of market value, we also restrict the median quarterly volume to 150000 shares as well as the closing price of the first day of the quarter to be larger than one."
   ]
  },
  {
   "cell_type": "code",
   "execution_count": 35,
   "metadata": {},
   "outputs": [],
   "source": [
    "r2_index = []\n",
    "r2_port = []\n",
    "for k in price_dict.keys():\n",
    "    if k in r2_dict.keys():\n",
    "        df_1 = price_dict[k]\n",
    "        df_2 = r2_dict[k]\n",
    "        \n",
    "        df_1 = df_1[df_1['ticker'].isin(list(df_2.ticker))]\n",
    "        df_1 = df_1.merge(df_2[['ticker', 'weight']], on=['ticker']).set_index('date') \n",
    "        df_1['w_ret'] = (df_1['weight']*df_1['pct_change']) + 1        \n",
    "        idx_port = df_1['w_ret'].groupby(level=0).prod()\n",
    "\n",
    "        r2_index.append(idx_port)"
   ]
  },
  {
   "cell_type": "markdown",
   "metadata": {},
   "source": [
    "### Contrasting against the IWM ETF\n",
    "\n"
   ]
  },
  {
   "cell_type": "code",
   "execution_count": 38,
   "metadata": {},
   "outputs": [],
   "source": [
    "# Import and append IWM into our index dataframe\n",
    "r2_i = pd.DataFrame(pd.concat(r2_index))\n",
    "r2_i['IWM'] = pdr.DataReader('IWM', 'yahoo', 2000, 2021).Close.pct_change() +1 \n",
    "r2_i = r2_i.drop_duplicates().dropna().loc[:'2020-9']"
   ]
  },
  {
   "cell_type": "markdown",
   "metadata": {},
   "source": [
    "We study the descriptive statistics of the return distributions and realize that distributions are very close to each other. Our R2000 index has a lower mean return, however, it also has significantly lower standard deviation. This explains why the portfolios performance is on par with IWM."
   ]
  },
  {
   "cell_type": "code",
   "execution_count": 59,
   "metadata": {},
   "outputs": [
    {
     "data": {
      "text/html": [
       "<div>\n",
       "<style scoped>\n",
       "    .dataframe tbody tr th:only-of-type {\n",
       "        vertical-align: middle;\n",
       "    }\n",
       "\n",
       "    .dataframe tbody tr th {\n",
       "        vertical-align: top;\n",
       "    }\n",
       "\n",
       "    .dataframe thead th {\n",
       "        text-align: right;\n",
       "    }\n",
       "</style>\n",
       "<table border=\"1\" class=\"dataframe\">\n",
       "  <thead>\n",
       "    <tr style=\"text-align: right;\">\n",
       "      <th></th>\n",
       "      <th>Prop_R2000</th>\n",
       "      <th>IWM</th>\n",
       "    </tr>\n",
       "  </thead>\n",
       "  <tbody>\n",
       "    <tr>\n",
       "      <th>count</th>\n",
       "      <td>5118.00</td>\n",
       "      <td>5118.00</td>\n",
       "    </tr>\n",
       "    <tr>\n",
       "      <th>mean</th>\n",
       "      <td>0.04</td>\n",
       "      <td>0.03</td>\n",
       "    </tr>\n",
       "    <tr>\n",
       "      <th>std</th>\n",
       "      <td>1.40</td>\n",
       "      <td>1.53</td>\n",
       "    </tr>\n",
       "    <tr>\n",
       "      <th>min</th>\n",
       "      <td>-12.14</td>\n",
       "      <td>-13.27</td>\n",
       "    </tr>\n",
       "    <tr>\n",
       "      <th>25%</th>\n",
       "      <td>-0.52</td>\n",
       "      <td>-0.71</td>\n",
       "    </tr>\n",
       "    <tr>\n",
       "      <th>50%</th>\n",
       "      <td>0.07</td>\n",
       "      <td>0.10</td>\n",
       "    </tr>\n",
       "    <tr>\n",
       "      <th>75%</th>\n",
       "      <td>0.64</td>\n",
       "      <td>0.83</td>\n",
       "    </tr>\n",
       "    <tr>\n",
       "      <th>max</th>\n",
       "      <td>14.87</td>\n",
       "      <td>9.15</td>\n",
       "    </tr>\n",
       "  </tbody>\n",
       "</table>\n",
       "</div>"
      ],
      "text/plain": [
       "       Prop_R2000      IWM\n",
       "count     5118.00  5118.00\n",
       "mean         0.04     0.03\n",
       "std          1.40     1.53\n",
       "min        -12.14   -13.27\n",
       "25%         -0.52    -0.71\n",
       "50%          0.07     0.10\n",
       "75%          0.64     0.83\n",
       "max         14.87     9.15"
      ]
     },
     "execution_count": 59,
     "metadata": {},
     "output_type": "execute_result"
    }
   ],
   "source": [
    "((r2_i-1)*100).describe().round(2)"
   ]
  },
  {
   "cell_type": "markdown",
   "metadata": {},
   "source": [
    "Adding dates as an extra dimension represented by a color-code will give additional information when looking at the scatterplot of the two sets of returns. We see that there does not seem to be any type of structural change over time based on the scatterplot. Clearly, we have a lot of volatility at the far end of the date index corresponding to 2020. This should not be surprising given the unprecedented circumstances due to COVID-19."
   ]
  },
  {
   "cell_type": "code",
   "execution_count": 61,
   "metadata": {},
   "outputs": [
    {
     "data": {
      "text/plain": [
       "<matplotlib.axes._subplots.AxesSubplot at 0x1fe9d0cd1c8>"
      ]
     },
     "execution_count": 61,
     "metadata": {},
     "output_type": "execute_result"
    },
    {
     "data": {
      "image/png": "[encoded data removed]",
      "text/plain": [
       "<Figure size 432x288 with 2 Axes>"
      ]
     },
     "metadata": {
      "needs_background": "light"
     },
     "output_type": "display_data"
    }
   ],
   "source": [
    "r2_i['date'] = r2_i.index\n",
    "r2_i.plot.scatter(x='Prop_R2000', y='IWM', c='date', colormap='viridis')"
   ]
  },
  {
   "cell_type": "markdown",
   "metadata": {},
   "source": [
    "Looking at the performance of the two portfolios will show how closely they move together."
   ]
  },
  {
   "cell_type": "code",
   "execution_count": 67,
   "metadata": {},
   "outputs": [
    {
     "data": {
      "text/plain": [
       "<matplotlib.axes._subplots.AxesSubplot at 0x1fe9d2aab48>"
      ]
     },
     "execution_count": 67,
     "metadata": {},
     "output_type": "execute_result"
    },
    {
     "data": {
      "image/png": "[encoded data removed]",
      "text/plain": [
       "<Figure size 432x288 with 1 Axes>"
      ]
     },
     "metadata": {
      "needs_background": "light"
     },
     "output_type": "display_data"
    }
   ],
   "source": [
    "r2_i.cumprod().plot()    "
   ]
  },
  {
   "cell_type": "markdown",
   "metadata": {},
   "source": [
    "The correlation is clearly high. Let us look at the distribution of yearly correlations to see what the distribution of the correlation coefficients are. This is useful in order to understand how widely the co-movements of the portfolios deviate, and thus gives us a better understanding of the \"riskiness\" of relying on our proxy."
   ]
  },
  {
   "cell_type": "code",
   "execution_count": 68,
   "metadata": {},
   "outputs": [
    {
     "data": {
      "text/plain": [
       "count    21.00\n",
       "mean     91.73\n",
       "std       3.75\n",
       "min      83.90\n",
       "25%      90.11\n",
       "50%      92.06\n",
       "75%      93.73\n",
       "max      98.12\n",
       "Name: Correlations, dtype: float64"
      ]
     },
     "execution_count": 68,
     "metadata": {},
     "output_type": "execute_result"
    },
    {
     "data": {
      "image/png": "[encoded data removed]",
      "text/plain": [
       "<Figure size 432x288 with 1 Axes>"
      ]
     },
     "metadata": {
      "needs_background": "light"
     },
     "output_type": "display_data"
    }
   ],
   "source": [
    "corrs = []\n",
    "for i in r2_i.resample('A').last().index.year:\n",
    "    corrs.append(r2_i.loc[str(i)].corr().iloc[0,1])\n",
    "corrs = pd.Series(corrs, name='Correlations', index=r2_i.resample('A').last().index.year)\n",
    "\n",
    "corrs.plot.hist(bins=50)\n",
    "(corrs*100).describe().round(2)"
   ]
  },
  {
   "cell_type": "markdown",
   "metadata": {},
   "source": [
    "We see that the mean and median are above 90% while the distribution of the correlations is skewed slightly to the left. The standard deviation of the correlations is quite low, which gives us conviction that we can rely on the mean value for future reference, and this distribution is a good representative of the true distribution for the correlations."
   ]
  },
  {
   "cell_type": "code",
   "execution_count": 69,
   "metadata": {},
   "outputs": [
    {
     "data": {
      "text/html": [
       "<div>\n",
       "<style scoped>\n",
       "    .dataframe tbody tr th:only-of-type {\n",
       "        vertical-align: middle;\n",
       "    }\n",
       "\n",
       "    .dataframe tbody tr th {\n",
       "        vertical-align: top;\n",
       "    }\n",
       "\n",
       "    .dataframe thead th {\n",
       "        text-align: right;\n",
       "    }\n",
       "</style>\n",
       "<table border=\"1\" class=\"dataframe\">\n",
       "  <thead>\n",
       "    <tr style=\"text-align: right;\">\n",
       "      <th></th>\n",
       "      <th>Prop_R2000</th>\n",
       "      <th>IWM</th>\n",
       "    </tr>\n",
       "  </thead>\n",
       "  <tbody>\n",
       "    <tr>\n",
       "      <th>Prop_R2000</th>\n",
       "      <td>100.00</td>\n",
       "      <td>91.81</td>\n",
       "    </tr>\n",
       "    <tr>\n",
       "      <th>IWM</th>\n",
       "      <td>91.81</td>\n",
       "      <td>100.00</td>\n",
       "    </tr>\n",
       "  </tbody>\n",
       "</table>\n",
       "</div>"
      ],
      "text/plain": [
       "            Prop_R2000     IWM\n",
       "Prop_R2000      100.00   91.81\n",
       "IWM              91.81  100.00"
      ]
     },
     "execution_count": 69,
     "metadata": {},
     "output_type": "execute_result"
    }
   ],
   "source": [
    "(r2_i.corr()*100).round(2)"
   ]
  },
  {
   "cell_type": "markdown",
   "metadata": {},
   "source": [
    "Finally we see that the correlation over the complete dataset is close to 92%. This concludes the tutorial, providing a flexible platform to construct custom indices via fundamental and techincal data. "
   ]
  }
 ],
 "metadata": {
  "kernelspec": {
   "display_name": "Python 3",
   "language": "python",
   "name": "python3"
  },
  "language_info": {
   "codemirror_mode": {
    "name": "ipython",
    "version": 3
   },
   "file_extension": ".py",
   "mimetype": "text/x-python",
   "name": "python",
   "nbconvert_exporter": "python",
   "pygments_lexer": "ipython3",
   "version": "3.7.7"
  }
 },
 "nbformat": 4,
 "nbformat_minor": 4
}
